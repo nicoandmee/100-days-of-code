{
  "cells": [
    {
      "cell_type": "markdown",
      "metadata": {
        "id": "view-in-github",
        "colab_type": "text"
      },
      "source": [
        "<a href=\"https://colab.research.google.com/github/nicoandmee/100-days-of-code/blob/master/quickstarts/Authentication.ipynb\" target=\"_parent\"><img src=\"https://colab.research.google.com/assets/colab-badge.svg\" alt=\"Open In Colab\"/></a>"
      ]
    },
    {
      "cell_type": "markdown",
      "metadata": {
        "id": "Tce3stUlHN0L"
      },
      "source": [
        "##### Copyright 2025 Google LLC."
      ]
    },
    {
      "cell_type": "code",
      "execution_count": null,
      "metadata": {
        "cellView": "form",
        "id": "tuOe1ymfHZPu"
      },
      "outputs": [],
      "source": [
        "# @title Licensed under the Apache License, Version 2.0 (the \"License\");\n",
        "# you may not use this file except in compliance with the License.\n",
        "# You may obtain a copy of the License at\n",
        "#\n",
        "# https://www.apache.org/licenses/LICENSE-2.0\n",
        "#\n",
        "# Unless required by applicable law or agreed to in writing, software\n",
        "# distributed under the License is distributed on an \"AS IS\" BASIS,\n",
        "# WITHOUT WARRANTIES OR CONDITIONS OF ANY KIND, either express or implied.\n",
        "# See the License for the specific language governing permissions and\n",
        "# limitations under the License."
      ]
    },
    {
      "cell_type": "markdown",
      "metadata": {
        "id": "yeadDkMiISin"
      },
      "source": [
        "# Gemini API: Authentication Quickstart"
      ]
    },
    {
      "cell_type": "markdown",
      "metadata": {
        "id": "lEXQ3OwKIa-O"
      },
      "source": [
        "<a target=\"_blank\" href=\"https://colab.research.google.com/github/google-gemini/cookbook/blob/main/quickstarts/Authentication.ipynb\"><img src=\"https://colab.research.google.com/assets/colab-badge.svg\" height=30/></a>"
      ]
    },
    {
      "cell_type": "markdown",
      "metadata": {
        "id": "df1767a3d1cc"
      },
      "source": [
        "The Gemini API uses API keys for authentication. This notebook walks you through creating an API key, and using it with the Python SDK or a command-line tool like `curl`."
      ]
    },
    {
      "cell_type": "markdown",
      "metadata": {
        "id": "mhFKmRmxi5B-"
      },
      "source": [
        "## Create an API key\n",
        "\n",
        "You can [create](https://aistudio.google.com/app/apikey) your API key using Google AI Studio with a single click.  \n",
        "\n",
        "Remember to treat your API key like a password. Don't accidentally save it in a notebook or source file you later commit to GitHub. This notebook shows you two ways you can securely store your API key.\n",
        "\n",
        "* If you're using Google Colab, it's recommended to store your key in Colab Secrets.\n",
        "\n",
        "* If you're using a different development environment (or calling the Gemini API through `cURL` in your terminal), it's recommended to store your key in an [environment variable](https://en.wikipedia.org/wiki/Environment_variable).\n",
        "\n",
        "Let's start with Colab Secrets."
      ]
    },
    {
      "cell_type": "markdown",
      "metadata": {
        "id": "dEoigYI9Jw_K"
      },
      "source": [
        "## Add your key to Colab Secrets\n",
        "\n",
        "Add your API key to the Colab Secrets manager to securely store it.\n",
        "\n",
        "1. Open your Google Colab notebook and click on the 🔑 **Secrets** tab in the left panel.\n",
        "   \n",
        "   <img src=\"https://storage.googleapis.com/generativeai-downloads/images/secrets.jpg\" alt=\"You can find the Secrets tab on the left panel.\" width=50%>\n",
        "\n",
        "2. Create a new secret with the name `GOOGLE_API_KEY`.\n",
        "3. Copy and paste your API key into the `Value` input box of `GOOGLE_API_KEY`.\n",
        "4. Toggle the button on the left to allow all notebooks access to the secret.\n"
      ]
    },
    {
      "cell_type": "markdown",
      "metadata": {
        "id": "jRY1eioF4gUB"
      },
      "source": [
        "## Install the Python SDK"
      ]
    },
    {
      "cell_type": "code",
      "execution_count": null,
      "metadata": {
        "id": "xuiLSV7amy3P",
        "outputId": "5e3c6a66-b630-4bc2-cd1a-d54a5562fc41"
      },
      "outputs": [
        {
          "name": "stdout",
          "output_type": "stream",
          "text": [
            "\u001b[?25l   \u001b[90m━━━━━━━━━━━━━━━━━━━━━━━━━━━━━━━━━━━━━━━━\u001b[0m \u001b[32m0.0/200.0 kB\u001b[0m \u001b[31m?\u001b[0m eta \u001b[36m-:--:--\u001b[0m\r\u001b[2K   \u001b[91m━━━━━━━━━━━━━━━━━━━━━━━━━━━━━━━━━━━━━━\u001b[0m\u001b[91m╸\u001b[0m\u001b[90m━\u001b[0m \u001b[32m194.6/200.0 kB\u001b[0m \u001b[31m29.4 MB/s\u001b[0m eta \u001b[36m0:00:01\u001b[0m\r\u001b[2K   \u001b[90m━━━━━━━━━━━━━━━━━━━━━━━━━━━━━━━━━━━━━━━━\u001b[0m \u001b[32m200.0/200.0 kB\u001b[0m \u001b[31m5.7 MB/s\u001b[0m eta \u001b[36m0:00:00\u001b[0m\n",
            "\u001b[?25h"
          ]
        }
      ],
      "source": [
        "%pip install -qU 'google-genai>=1.0.0'"
      ]
    },
    {
      "cell_type": "markdown",
      "metadata": {
        "id": "3dw8ygh74mVc"
      },
      "source": [
        "## Configure the SDK with your API key\n",
        "\n",
        "You create a client using your API key, but instead of pasting your key into the notebook, you'll read it from Colab Secrets thanks to `userdata`."
      ]
    },
    {
      "cell_type": "code",
      "execution_count": 1,
      "metadata": {
        "id": "DTl-qZp34sht"
      },
      "outputs": [],
      "source": [
        "from google import genai\n",
        "from google.colab import userdata\n",
        "\n",
        "GOOGLE_API_KEY = userdata.get('GOOGLE_API_KEY')\n",
        "client = genai.Client(api_key=GOOGLE_API_KEY)"
      ]
    },
    {
      "cell_type": "markdown",
      "metadata": {
        "id": "b7ceb7517bf5"
      },
      "source": [
        "Now choose a model. The Gemini API offers different models that are optimized for specific use cases. For more information check [Gemini models](https://ai.google.dev/gemini-api/docs/models)"
      ]
    },
    {
      "cell_type": "code",
      "execution_count": 2,
      "metadata": {
        "id": "7135d9ae3e4b"
      },
      "outputs": [],
      "source": [
        "MODEL_ID = \"gemini-2.5-pro\" # @param [\"gemini-2.5-flash-lite-preview-06-17\",\"gemini-2.0-flash\",\"gemini-2.5-flash\",\"gemini-2.5-pro\"] {\"allow-input\":true, isTemplate: true}"
      ]
    },
    {
      "cell_type": "markdown",
      "metadata": {
        "id": "tr7oAO6-nMsE"
      },
      "source": [
        "And that's it! Now you're ready to call the Gemini API."
      ]
    },
    {
      "cell_type": "code",
      "execution_count": 3,
      "metadata": {
        "id": "n6sXnWrJoKoo",
        "outputId": "394d640b-3a01-41dc-b238-845a2cc11c01",
        "colab": {
          "base_uri": "https://localhost:8080/",
          "height": 1000
        }
      },
      "outputs": [
        {
          "output_type": "display_data",
          "data": {
            "text/plain": [
              "<IPython.core.display.Markdown object>"
            ],
            "text/markdown": "Of course! Sorting a list is a very common task in Python. There are two primary ways to do it, each with its own use case.\n\nHere's a complete guide, from the simplest methods to more advanced techniques.\n\n### Quick Answer\n\nIf you have a list called `my_list`:\n\n*   To get a **new, sorted copy** of the list (most common):\n    ```python\n    sorted_list = sorted(my_list)\n    ```\n\n*   To sort the list **in-place** (modifies the original list):\n    ```python\n    my_list.sort()\n    ```\n\n---\n\n### Method 1: The `sorted()` Function (Recommended)\n\nThis is the most common and generally recommended way to sort. It takes any iterable (like a list, tuple, etc.) and returns a **new, sorted list**, leaving the original list unchanged.\n\n#### Basic Ascending Sort\n\n```python\n# A list of numbers\nnumbers = [4, 1, 8, 5, 2]\nprint(f\"Original list: {numbers}\")\n\n# Use the sorted() function to get a new sorted list\nsorted_numbers = sorted(numbers)\n\nprint(f\"New sorted list: {sorted_numbers}\")\nprint(f\"Original list is unchanged: {numbers}\")\n```\n**Output:**\n```\nOriginal list: [4, 1, 8, 5, 2]\nNew sorted list: [1, 2, 4, 5, 8]\nOriginal list is unchanged: [4, 1, 8, 5, 2]\n```\n\n#### Descending Sort\nUse the `reverse=True` argument.\n\n```python\nnumbers = [4, 1, 8, 5, 2]\ndescending_numbers = sorted(numbers, reverse=True)\n\nprint(f\"Sorted in descending order: {descending_numbers}\")\n```\n**Output:**\n```\nSorted in descending order: [8, 5, 4, 2, 1]\n```\n\n---\n\n### Method 2: The `.sort()` List Method\n\nThis method sorts the list **in-place**, meaning it modifies the original list directly and returns `None`. Use this when you don't need to preserve the original order and want to be memory-efficient with very large lists.\n\n#### Basic Ascending Sort\n\n```python\n# A list of strings\nfruits = [\"cherry\", \"apple\", \"banana\", \"date\"]\nprint(f\"Original list: {fruits}\")\n\n# Sort the list in-place\nfruits.sort() # This returns None, but modifies the `fruits` list\n\nprint(f\"List after .sort(): {fruits}\")\n```\n**Output:**\n```\nOriginal list: ['cherry', 'apple', 'banana', 'date']\nList after .sort(): ['apple', 'banana', 'cherry', 'date']\n```\n\n**Common Mistake:** Do not assign the result of `.sort()` to a variable!\n```python\n# WRONG! This will result in `my_list` being None\nmy_list = [3, 1, 2]\nmy_list = my_list.sort() # Don't do this!\nprint(my_list) # Output: None\n```\n\n#### Descending Sort\nThe `.sort()` method also accepts the `reverse=True` argument.\n```python\nfruits = [\"cherry\", \"apple\", \"banana\", \"date\"]\nfruits.sort(reverse=True)\n\nprint(f\"List sorted in descending order: {fruits}\")\n```\n**Output:**\n```\nList sorted in descending order: ['date', 'cherry', 'banana', 'apple']\n```\n\n---\n\n### Summary: `sorted()` vs. `.sort()`\n\n| Feature        | `sorted(my_list)`                             | `my_list.sort()`                        |\n|----------------|-----------------------------------------------|-----------------------------------------|\n| **What it does**   | Returns a **new** sorted list                 | Sorts the list **in-place**             |\n| **Original List**| Remains unchanged                             | Is modified                             |\n| **Return Value** | The new sorted list                           | `None`                                  |\n| **Usage**      | `new_list = sorted(my_list)`                  | `my_list.sort()`                        |\n| **Works On**   | Any iterable (lists, tuples, strings, etc.)   | Only works on lists                     |\n\n---\n\n### Advanced Sorting with the `key` Argument\n\nWhat if you want to sort based on a custom rule? For example, sorting a list of strings by their length. Both `sorted()` and `.sort()` accept a `key` argument for this. The `key` is a function that is applied to each item before comparison.\n\n#### Example 1: Sort by Length of String\n\n```python\nwords = [\"cat\", \"aardvark\", \"beehive\", \"dog\"]\n\n# Use the built-in len() function as the key\nsorted_by_length = sorted(words, key=len)\n\nprint(sorted_by_length)\n```\n**Output:**\n```\n['cat', 'dog', 'aardvark', 'beehive']\n```\n\n#### Example 2: Case-Insensitive Sort\n\n```python\nwords = [\"Apple\", \"banana\", \"Cherry\", \"date\"]\n\n# Use the str.lower method as the key to treat \"A\" and \"a\" the same\ncase_insensitive_sort = sorted(words, key=str.lower)\n\nprint(case_insensitive_sort)\n```\n**Output:**\n```\n['Apple', 'banana', 'Cherry', 'date']\n```\n\n#### Example 3: Sorting a List of Dictionaries\n\nThis is a very common use case. You can use a `lambda` function to specify which dictionary value to sort by.\n\n```python\npeople = [\n    {'name': 'Alice', 'age': 30},\n    {'name': 'Bob', 'age': 25},\n    {'name': 'Charlie', 'age': 35}\n]\n\n# Sort by age\nsorted_by_age = sorted(people, key=lambda person: person['age'])\n\nprint(sorted_by_age)\n```\n**Output:**\n```\n[{'name': 'Bob', 'age': 25}, {'name': 'Alice', 'age': 30}, {'name': 'Charlie', 'age': 35}]\n```\n\nYou can also combine `key` and `reverse`:\n```python\n# Sort by age in descending order\nsorted_by_age_desc = sorted(people, key=lambda person: person['age'], reverse=True)\n\nprint(sorted_by_age_desc)\n```\n**Output:**\n```\n[{'name': 'Charlie', 'age': 35}, {'name': 'Alice', 'age': 30}, {'name': 'Bob', 'age': 25}]\n```"
          },
          "metadata": {}
        }
      ],
      "source": [
        "from IPython.display import Markdown\n",
        "\n",
        "response = client.models.generate_content(\n",
        "    model=MODEL_ID,\n",
        "    contents=\"Please give me python code to sort a list.\"\n",
        ")\n",
        "\n",
        "display(Markdown(response.text))"
      ]
    },
    {
      "cell_type": "markdown",
      "metadata": {
        "id": "BTdQtZri1Brs"
      },
      "source": [
        "## Store your key in an environment variable"
      ]
    },
    {
      "cell_type": "markdown",
      "metadata": {
        "id": "gZDX51Y27pN4"
      },
      "source": [
        "If you're using a different development environment (or calling the Gemini API through `cURL` in your terminal), it's recommended to store your key in an environment variable.\n",
        "\n",
        "To store your key in an environment variable, open your terminal and run:\n",
        "\n",
        "```export GOOGLE_API_KEY=\"YOUR_API_KEY\"```\n",
        "\n",
        "If you're using Python, you can add these two lines to your notebook to read the key:\n",
        "\n",
        "```\n",
        "import os\n",
        "client = genai.Client(api_key=os.environ['GOOGLE_API_KEY'])\n",
        "```\n",
        "\n",
        "Alternatively, if it isn't provided explicitly, the client will look for the API key.\n",
        "\n",
        "```\n",
        "client = genai.Client()\n",
        "```\n",
        "\n",
        "Or, if you're calling the API through your terminal using `cURL`, you can copy and paste this code to read your key from the environment variable.\n",
        "\n",
        "```\n",
        "curl \"https://generativelanguage.googleapis.com/v1beta/models/gemini-2.0-flash:generateContent?key=$GOOGLE_API_KEY\" \\\n",
        "    -H 'Content-Type: application/json' \\\n",
        "    -X POST \\\n",
        "    -d '{\n",
        "      \"contents\": [{\n",
        "        \"parts\":[{\n",
        "          \"text\": \"Please give me Python code to sort a list.\"\n",
        "        }]\n",
        "      }]\n",
        "    }'\n",
        "```\n"
      ]
    },
    {
      "cell_type": "markdown",
      "metadata": {
        "id": "CAOKOcax1xZY"
      },
      "source": [
        "## Learning more\n",
        "\n",
        "Now that you know how to manage your API key, you've everything to [get started](./Get_started.ipynb) with Gemini. Check all the [quickstart guides](https://github.com/google-gemini/cookbook/tree/main/quickstarts) from the Cookbook, and in particular the [Get started](./Get_started.ipynb) one."
      ]
    }
  ],
  "metadata": {
    "colab": {
      "name": "Authentication.ipynb",
      "toc_visible": true,
      "provenance": [],
      "include_colab_link": true
    },
    "google": {
      "image_path": "/site-assets/images/share.png",
      "keywords": [
        "examples",
        "googleai",
        "samplecode",
        "python",
        "embed",
        "function"
      ]
    },
    "kernelspec": {
      "display_name": "Python 3",
      "name": "python3"
    }
  },
  "nbformat": 4,
  "nbformat_minor": 0
}